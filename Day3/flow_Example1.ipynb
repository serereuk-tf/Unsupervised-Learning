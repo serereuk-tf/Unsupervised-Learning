{
  "nbformat": 4,
  "nbformat_minor": 0,
  "metadata": {
    "colab": {
      "name": "flow Example1.ipynb",
      "provenance": [],
      "collapsed_sections": [],
      "authorship_tag": "ABX9TyP+/Ce6w1rjWCKzgW709APm",
      "include_colab_link": true
    },
    "kernelspec": {
      "name": "python3",
      "display_name": "Python 3"
    },
    "accelerator": "GPU"
  },
  "cells": [
    {
      "cell_type": "markdown",
      "metadata": {
        "id": "view-in-github",
        "colab_type": "text"
      },
      "source": [
        "<a href=\"https://colab.research.google.com/github/serereuk-tf/Unsupervised-Learning/blob/main/Day3/flow_Example1.ipynb\" target=\"_parent\"><img src=\"https://colab.research.google.com/assets/colab-badge.svg\" alt=\"Open In Colab\"/></a>"
      ]
    },
    {
      "cell_type": "code",
      "metadata": {
        "id": "HBjKSt73T1bh"
      },
      "source": [
        "import matplotlib.pyplot as plt\n",
        "import numpy as np\n",
        "import scipy.stats\n",
        "import tensorflow_probability as tfp\n",
        "import tensorflow as tf\n",
        "from tensorflow.keras import Input, Model\n",
        "from tqdm import trange"
      ],
      "execution_count": 16,
      "outputs": []
    },
    {
      "cell_type": "code",
      "metadata": {
        "id": "ntju-mo_T6TX"
      },
      "source": [
        "@tf.function\n",
        "def inverse_sigmoid(x):\n",
        "   return -tf.math.log(tf.math.reciprocal(x) - 1.)\n",
        "\n",
        "@tf.function\n",
        "def bpd(z, dzdx):\n",
        "    return -tf.reduce_mean(tfp.distributions.Normal(0., 1.).log_prob(z)+ tf.math.log(dzdx)) / np.log(2)\n",
        "\n",
        "def sample_data(count):\n",
        "   a = -1 + 0.2 * np.random.randn(count)\n",
        "   b = 0.5 + 0.5 * np.random.randn(count)\n",
        "   mask = np.random.rand(count) < 0.5\n",
        "   return (a * mask + b * (1 - mask))[:, None]\n",
        "\n",
        "def data_pdf(xs):\n",
        "   return 0.5 * scipy.stats.norm.pdf(xs, -1, 0.2) + 0.5 * scipy.stats.norm.pdf(xs, 0.5, 0.5)"
      ],
      "execution_count": 43,
      "outputs": []
    },
    {
      "cell_type": "code",
      "metadata": {
        "id": "x6VnXPvBWnV1"
      },
      "source": [
        "class flow(tf.keras.layers.Layer):\n",
        "    def __init__(self, hdim=128):\n",
        "        super(flow, self).__init__()\n",
        "        mu_init = tf.random_normal_initializer(0., 0.01)\n",
        "        logscale_init = tf.random_normal_initializer(0., 0.01)\n",
        "        logits_init = tf.random_normal_initializer(0., 0.01)\n",
        "\n",
        "        self.mu = tf.Variable(\n",
        "            initial_value=mu_init(shape=(1, hdim)),trainable=True)\n",
        "        \n",
        "        self.logscale = tf.Variable(initial_value=logscale_init(\n",
        "            shape=(1, hdim)), trainable=True)\n",
        "        \n",
        "        self.logits = tf.Variable(initial_value=logits_init(\n",
        "            shape=(1, hdim),), trainable=True)\n",
        "        \n",
        "\n",
        "    def call(self, inputs):\n",
        "        with tf.GradientTape() as tape:\n",
        "            tape.watch(inputs)\n",
        "            weights = tf.nn.softmax(self.logits, axis=1)\n",
        "            scale = tf.exp(self.logscale)\n",
        "            mu = tf.tile(self.mu, [tf.keras.backend.shape(inputs)[0], 1])\n",
        "            scale = tf.tile(scale, [tf.keras.backend.shape(inputs)[0], 1])\n",
        "            cdfs = tfp.distributions.Normal(mu, scale).cdf(inputs)\n",
        "            z = inverse_sigmoid(tf.reduce_sum(cdfs * weights, axis=1))\n",
        "        dzdx = tape.gradient(z, inputs)\n",
        "        return z, dzdx"
      ],
      "execution_count": 44,
      "outputs": []
    },
    {
      "cell_type": "code",
      "metadata": {
        "id": "v_7ezeq_Vjnr"
      },
      "source": [
        "inputs = Input(shape=(1))\n",
        "output = flow(hdim=128)(inputs)\n",
        "\n",
        "model = Model(inputs=inputs, outputs=output)\n",
        "optimizer = tf.keras.optimizers.Adam(1e-3)\n",
        "losses = []\n",
        "for i in range(10000):\n",
        "    x = sample_data(64)\n",
        "    with tf.GradientTape() as tape:\n",
        "        z, dzdx = model(x)\n",
        "        loss = bpd(z, dzdx)\n",
        "    losses.append(loss)\n",
        "    grad = tape.gradient(loss, model.trainable_variables)\n",
        "    optimizer.apply_gradients(zip(grad, model.trainable_variables))"
      ],
      "execution_count": 45,
      "outputs": []
    },
    {
      "cell_type": "code",
      "metadata": {
        "colab": {
          "base_uri": "https://localhost:8080/",
          "height": 741
        },
        "id": "AN9WThKvjdAE",
        "outputId": "bb0c7bdb-7a50-46bc-bec7-99850c02925c"
      },
      "source": [
        "fig, axes = plt.subplots(1, 2, sharex=True)\n",
        "xs = np.linspace(-5, 5, 64 * 500)\n",
        "axes[0].plot(xs, data_pdf(xs))\n",
        "result = []\n",
        "\n",
        "for i in range(1000):\n",
        "    temp = sample_data(64)\n",
        "    z, _ = model(temp)\n",
        "    result.append(z)\n",
        "\n",
        "z = np.concatenate(result)\n",
        "#axes[1].plot(xs, z)\n",
        "axes[1].hist(z, bins=100, range=[-5, 5])"
      ],
      "execution_count": 46,
      "outputs": [
        {
          "output_type": "execute_result",
          "data": {
            "text/plain": [
              "(array([0.000e+00, 0.000e+00, 0.000e+00, 0.000e+00, 0.000e+00, 0.000e+00,\n",
              "        0.000e+00, 0.000e+00, 0.000e+00, 0.000e+00, 0.000e+00, 0.000e+00,\n",
              "        0.000e+00, 0.000e+00, 0.000e+00, 1.000e+00, 8.000e+00, 1.200e+01,\n",
              "        1.800e+01, 2.500e+01, 5.900e+01, 5.800e+01, 8.300e+01, 1.030e+02,\n",
              "        1.490e+02, 1.710e+02, 2.090e+02, 2.540e+02, 3.070e+02, 3.340e+02,\n",
              "        4.330e+02, 4.710e+02, 5.250e+02, 6.520e+02, 7.560e+02, 8.790e+02,\n",
              "        9.940e+02, 1.109e+03, 1.269e+03, 1.438e+03, 1.603e+03, 1.699e+03,\n",
              "        1.894e+03, 2.029e+03, 2.140e+03, 2.368e+03, 2.494e+03, 2.583e+03,\n",
              "        2.584e+03, 2.296e+03, 2.087e+03, 2.755e+03, 2.692e+03, 2.502e+03,\n",
              "        2.287e+03, 2.143e+03, 2.060e+03, 2.012e+03, 1.835e+03, 1.640e+03,\n",
              "        1.401e+03, 1.311e+03, 1.173e+03, 9.770e+02, 8.870e+02, 7.560e+02,\n",
              "        6.410e+02, 5.730e+02, 4.740e+02, 3.730e+02, 3.160e+02, 2.640e+02,\n",
              "        2.090e+02, 1.520e+02, 1.290e+02, 9.200e+01, 7.500e+01, 4.900e+01,\n",
              "        3.900e+01, 3.100e+01, 1.800e+01, 1.700e+01, 7.000e+00, 5.000e+00,\n",
              "        5.000e+00, 1.000e+00, 3.000e+00, 2.000e+00, 0.000e+00, 0.000e+00,\n",
              "        0.000e+00, 0.000e+00, 0.000e+00, 0.000e+00, 0.000e+00, 0.000e+00,\n",
              "        0.000e+00, 0.000e+00, 0.000e+00, 0.000e+00]),\n",
              " array([-5. , -4.9, -4.8, -4.7, -4.6, -4.5, -4.4, -4.3, -4.2, -4.1, -4. ,\n",
              "        -3.9, -3.8, -3.7, -3.6, -3.5, -3.4, -3.3, -3.2, -3.1, -3. , -2.9,\n",
              "        -2.8, -2.7, -2.6, -2.5, -2.4, -2.3, -2.2, -2.1, -2. , -1.9, -1.8,\n",
              "        -1.7, -1.6, -1.5, -1.4, -1.3, -1.2, -1.1, -1. , -0.9, -0.8, -0.7,\n",
              "        -0.6, -0.5, -0.4, -0.3, -0.2, -0.1,  0. ,  0.1,  0.2,  0.3,  0.4,\n",
              "         0.5,  0.6,  0.7,  0.8,  0.9,  1. ,  1.1,  1.2,  1.3,  1.4,  1.5,\n",
              "         1.6,  1.7,  1.8,  1.9,  2. ,  2.1,  2.2,  2.3,  2.4,  2.5,  2.6,\n",
              "         2.7,  2.8,  2.9,  3. ,  3.1,  3.2,  3.3,  3.4,  3.5,  3.6,  3.7,\n",
              "         3.8,  3.9,  4. ,  4.1,  4.2,  4.3,  4.4,  4.5,  4.6,  4.7,  4.8,\n",
              "         4.9,  5. ], dtype=float32),\n",
              " <a list of 100 Patch objects>)"
            ]
          },
          "metadata": {
            "tags": []
          },
          "execution_count": 46
        },
        {
          "output_type": "display_data",
          "data": {
            "image/png": "[encoded data removed]",
            "text/plain": [
              "<Figure size 432x288 with 2 Axes>"
            ]
          },
          "metadata": {
            "tags": [],
            "needs_background": "light"
          }
        }
      ]
    },
    {
      "cell_type": "code",
      "metadata": {
        "id": "yRiL5EPj_Gxz"
      },
      "source": [
        ""
      ],
      "execution_count": null,
      "outputs": []
    }
  ]
}